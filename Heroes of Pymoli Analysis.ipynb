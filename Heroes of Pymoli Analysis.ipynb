{
 "cells": [
  {
   "cell_type": "markdown",
   "metadata": {},
   "source": [
    "# Heroes Of Pymoli Data Analysis"
   ]
  },
  {
   "cell_type": "markdown",
   "metadata": {},
   "source": [
    "## Takeaways on observable trends on the data "
   ]
  },
  {
   "cell_type": "markdown",
   "metadata": {},
   "source": [
    "- There are 780 purchases in the dataset from 576 players. Among the players, 84% were men whereas only 14% were women. Purchases were also mainly made by male players, that 652 purchases were made by male. However, female players tended to spend more. Female players spent \\$4.47 per person on average, exceeding male players by \\$0.4.<br><br>\n",
    "- The majority of the players were composed of 20-24 years olds (44.79%). However, 35-39 years olds tended to spend more on average that they spent \\$4.76 per person. People less then 10 years old spent \n",
    "\\$4.54 per person, ranked second. 20-24 years olds spent \\$4.32, ranked third.<br><br>\n",
    "\n",
    "-  Most popular item in the dataset was Oathbreaker, Last Hope of the Breaking Storm, which was purchased 12 times. It was also the most profitable itme. "
   ]
  },
  {
   "cell_type": "markdown",
   "metadata": {},
   "source": [
    "## Analysis"
   ]
  },
  {
   "cell_type": "code",
   "execution_count": 125,
   "metadata": {
    "scrolled": true
   },
   "outputs": [],
   "source": [
    "# Dependencies and Setup\n",
    "import pandas as pd"
   ]
  },
  {
   "cell_type": "code",
   "execution_count": 126,
   "metadata": {},
   "outputs": [
    {
     "data": {
      "text/html": [
       "<div>\n",
       "<style scoped>\n",
       "    .dataframe tbody tr th:only-of-type {\n",
       "        vertical-align: middle;\n",
       "    }\n",
       "\n",
       "    .dataframe tbody tr th {\n",
       "        vertical-align: top;\n",
       "    }\n",
       "\n",
       "    .dataframe thead th {\n",
       "        text-align: right;\n",
       "    }\n",
       "</style>\n",
       "<table border=\"1\" class=\"dataframe\">\n",
       "  <thead>\n",
       "    <tr style=\"text-align: right;\">\n",
       "      <th></th>\n",
       "      <th>Purchase ID</th>\n",
       "      <th>SN</th>\n",
       "      <th>Age</th>\n",
       "      <th>Gender</th>\n",
       "      <th>Item ID</th>\n",
       "      <th>Item Name</th>\n",
       "      <th>Price</th>\n",
       "    </tr>\n",
       "  </thead>\n",
       "  <tbody>\n",
       "    <tr>\n",
       "      <th>0</th>\n",
       "      <td>0</td>\n",
       "      <td>Lisim78</td>\n",
       "      <td>20</td>\n",
       "      <td>Male</td>\n",
       "      <td>108</td>\n",
       "      <td>Extraction, Quickblade Of Trembling Hands</td>\n",
       "      <td>3.53</td>\n",
       "    </tr>\n",
       "    <tr>\n",
       "      <th>1</th>\n",
       "      <td>1</td>\n",
       "      <td>Lisovynya38</td>\n",
       "      <td>40</td>\n",
       "      <td>Male</td>\n",
       "      <td>143</td>\n",
       "      <td>Frenzied Scimitar</td>\n",
       "      <td>1.56</td>\n",
       "    </tr>\n",
       "    <tr>\n",
       "      <th>2</th>\n",
       "      <td>2</td>\n",
       "      <td>Ithergue48</td>\n",
       "      <td>24</td>\n",
       "      <td>Male</td>\n",
       "      <td>92</td>\n",
       "      <td>Final Critic</td>\n",
       "      <td>4.88</td>\n",
       "    </tr>\n",
       "    <tr>\n",
       "      <th>3</th>\n",
       "      <td>3</td>\n",
       "      <td>Chamassasya86</td>\n",
       "      <td>24</td>\n",
       "      <td>Male</td>\n",
       "      <td>100</td>\n",
       "      <td>Blindscythe</td>\n",
       "      <td>3.27</td>\n",
       "    </tr>\n",
       "    <tr>\n",
       "      <th>4</th>\n",
       "      <td>4</td>\n",
       "      <td>Iskosia90</td>\n",
       "      <td>23</td>\n",
       "      <td>Male</td>\n",
       "      <td>131</td>\n",
       "      <td>Fury</td>\n",
       "      <td>1.44</td>\n",
       "    </tr>\n",
       "  </tbody>\n",
       "</table>\n",
       "</div>"
      ],
      "text/plain": [
       "   Purchase ID             SN  Age Gender  Item ID  \\\n",
       "0            0        Lisim78   20   Male      108   \n",
       "1            1    Lisovynya38   40   Male      143   \n",
       "2            2     Ithergue48   24   Male       92   \n",
       "3            3  Chamassasya86   24   Male      100   \n",
       "4            4      Iskosia90   23   Male      131   \n",
       "\n",
       "                                   Item Name  Price  \n",
       "0  Extraction, Quickblade Of Trembling Hands   3.53  \n",
       "1                          Frenzied Scimitar   1.56  \n",
       "2                               Final Critic   4.88  \n",
       "3                                Blindscythe   3.27  \n",
       "4                                       Fury   1.44  "
      ]
     },
     "execution_count": 126,
     "metadata": {},
     "output_type": "execute_result"
    }
   ],
   "source": [
    "#Load the data. Data stored in the same directory as the notebook\n",
    "file = pd.read_csv('04-Pandas_homework_HeroesOfPymoli_Resources_purchase_data.csv')\n",
    "\n",
    "#Make dataframe\n",
    "df = pd.DataFrame(file)\n",
    "\n",
    "#Display first 5 rows of the data\n",
    "df.head(5)"
   ]
  },
  {
   "cell_type": "markdown",
   "metadata": {},
   "source": [
    "### Data cleaning and descriptives"
   ]
  },
  {
   "cell_type": "code",
   "execution_count": 127,
   "metadata": {},
   "outputs": [
    {
     "data": {
      "text/plain": [
       "False"
      ]
     },
     "execution_count": 127,
     "metadata": {},
     "output_type": "execute_result"
    }
   ],
   "source": [
    "#Check if any value is missing\n",
    "df.isnull().values.any()"
   ]
  },
  {
   "cell_type": "code",
   "execution_count": 128,
   "metadata": {},
   "outputs": [
    {
     "data": {
      "text/html": [
       "<div>\n",
       "<style scoped>\n",
       "    .dataframe tbody tr th:only-of-type {\n",
       "        vertical-align: middle;\n",
       "    }\n",
       "\n",
       "    .dataframe tbody tr th {\n",
       "        vertical-align: top;\n",
       "    }\n",
       "\n",
       "    .dataframe thead th {\n",
       "        text-align: right;\n",
       "    }\n",
       "</style>\n",
       "<table border=\"1\" class=\"dataframe\">\n",
       "  <thead>\n",
       "    <tr style=\"text-align: right;\">\n",
       "      <th></th>\n",
       "      <th>Purchase ID</th>\n",
       "      <th>Age</th>\n",
       "      <th>Item ID</th>\n",
       "      <th>Price</th>\n",
       "    </tr>\n",
       "  </thead>\n",
       "  <tbody>\n",
       "    <tr>\n",
       "      <th>count</th>\n",
       "      <td>780.000000</td>\n",
       "      <td>780.000000</td>\n",
       "      <td>780.000000</td>\n",
       "      <td>780.000000</td>\n",
       "    </tr>\n",
       "    <tr>\n",
       "      <th>mean</th>\n",
       "      <td>389.500000</td>\n",
       "      <td>22.714103</td>\n",
       "      <td>92.114103</td>\n",
       "      <td>3.050987</td>\n",
       "    </tr>\n",
       "    <tr>\n",
       "      <th>std</th>\n",
       "      <td>225.310896</td>\n",
       "      <td>6.659444</td>\n",
       "      <td>52.775943</td>\n",
       "      <td>1.169549</td>\n",
       "    </tr>\n",
       "    <tr>\n",
       "      <th>min</th>\n",
       "      <td>0.000000</td>\n",
       "      <td>7.000000</td>\n",
       "      <td>0.000000</td>\n",
       "      <td>1.000000</td>\n",
       "    </tr>\n",
       "    <tr>\n",
       "      <th>25%</th>\n",
       "      <td>194.750000</td>\n",
       "      <td>20.000000</td>\n",
       "      <td>48.000000</td>\n",
       "      <td>1.980000</td>\n",
       "    </tr>\n",
       "    <tr>\n",
       "      <th>50%</th>\n",
       "      <td>389.500000</td>\n",
       "      <td>22.000000</td>\n",
       "      <td>93.000000</td>\n",
       "      <td>3.150000</td>\n",
       "    </tr>\n",
       "    <tr>\n",
       "      <th>75%</th>\n",
       "      <td>584.250000</td>\n",
       "      <td>25.000000</td>\n",
       "      <td>139.000000</td>\n",
       "      <td>4.080000</td>\n",
       "    </tr>\n",
       "    <tr>\n",
       "      <th>max</th>\n",
       "      <td>779.000000</td>\n",
       "      <td>45.000000</td>\n",
       "      <td>183.000000</td>\n",
       "      <td>4.990000</td>\n",
       "    </tr>\n",
       "  </tbody>\n",
       "</table>\n",
       "</div>"
      ],
      "text/plain": [
       "       Purchase ID         Age     Item ID       Price\n",
       "count   780.000000  780.000000  780.000000  780.000000\n",
       "mean    389.500000   22.714103   92.114103    3.050987\n",
       "std     225.310896    6.659444   52.775943    1.169549\n",
       "min       0.000000    7.000000    0.000000    1.000000\n",
       "25%     194.750000   20.000000   48.000000    1.980000\n",
       "50%     389.500000   22.000000   93.000000    3.150000\n",
       "75%     584.250000   25.000000  139.000000    4.080000\n",
       "max     779.000000   45.000000  183.000000    4.990000"
      ]
     },
     "execution_count": 128,
     "metadata": {},
     "output_type": "execute_result"
    }
   ],
   "source": [
    "#Descriptives\n",
    "df.describe()"
   ]
  },
  {
   "cell_type": "markdown",
   "metadata": {},
   "source": [
    "### Player Count"
   ]
  },
  {
   "cell_type": "code",
   "execution_count": 129,
   "metadata": {},
   "outputs": [
    {
     "data": {
      "text/html": [
       "<div>\n",
       "<style scoped>\n",
       "    .dataframe tbody tr th:only-of-type {\n",
       "        vertical-align: middle;\n",
       "    }\n",
       "\n",
       "    .dataframe tbody tr th {\n",
       "        vertical-align: top;\n",
       "    }\n",
       "\n",
       "    .dataframe thead th {\n",
       "        text-align: right;\n",
       "    }\n",
       "</style>\n",
       "<table border=\"1\" class=\"dataframe\">\n",
       "  <thead>\n",
       "    <tr style=\"text-align: right;\">\n",
       "      <th></th>\n",
       "      <th>Total Players</th>\n",
       "    </tr>\n",
       "  </thead>\n",
       "  <tbody>\n",
       "    <tr>\n",
       "      <th>0</th>\n",
       "      <td>576</td>\n",
       "    </tr>\n",
       "  </tbody>\n",
       "</table>\n",
       "</div>"
      ],
      "text/plain": [
       "   Total Players\n",
       "0            576"
      ]
     },
     "execution_count": 129,
     "metadata": {},
     "output_type": "execute_result"
    }
   ],
   "source": [
    "#Count the number of unique players\n",
    "count_player = df['SN'].nunique()\n",
    "player_count_df = pd.DataFrame({'Total Players': [count_player]})\n",
    "player_count_df"
   ]
  },
  {
   "cell_type": "markdown",
   "metadata": {},
   "source": [
    "### Purchasing Analysis (Total)"
   ]
  },
  {
   "cell_type": "code",
   "execution_count": 130,
   "metadata": {},
   "outputs": [
    {
     "data": {
      "text/plain": [
       "183"
      ]
     },
     "execution_count": 130,
     "metadata": {},
     "output_type": "execute_result"
    }
   ],
   "source": [
    "#Count number of unique items\n",
    "count_items = df['Item ID'].nunique()\n",
    "count_items"
   ]
  },
  {
   "cell_type": "code",
   "execution_count": 131,
   "metadata": {},
   "outputs": [
    {
     "data": {
      "text/plain": [
       "3.050987179487176"
      ]
     },
     "execution_count": 131,
     "metadata": {},
     "output_type": "execute_result"
    }
   ],
   "source": [
    "#Average Purchase Price\n",
    "average_price = df['Price'].mean()\n",
    "average_price"
   ]
  },
  {
   "cell_type": "code",
   "execution_count": 132,
   "metadata": {},
   "outputs": [
    {
     "data": {
      "text/plain": [
       "780"
      ]
     },
     "execution_count": 132,
     "metadata": {},
     "output_type": "execute_result"
    }
   ],
   "source": [
    "#Total number of purchases\n",
    "count_purchase = df['Purchase ID'].count()\n",
    "count_purchase"
   ]
  },
  {
   "cell_type": "code",
   "execution_count": 133,
   "metadata": {},
   "outputs": [
    {
     "data": {
      "text/plain": [
       "2379.77"
      ]
     },
     "execution_count": 133,
     "metadata": {},
     "output_type": "execute_result"
    }
   ],
   "source": [
    "#Total revenue\n",
    "revenue_sum = df['Price'].sum()\n",
    "revenue_sum"
   ]
  },
  {
   "cell_type": "code",
   "execution_count": 134,
   "metadata": {},
   "outputs": [
    {
     "data": {
      "text/html": [
       "<style  type=\"text/css\" >\n",
       "</style>  \n",
       "<table id=\"T_cd1dcf0c_c48d_11e8_9952_acbc32b317cf\" > \n",
       "<thead>    <tr> \n",
       "        <th class=\"blank level0\" ></th> \n",
       "        <th class=\"col_heading level0 col0\" >Number of Unique Items</th> \n",
       "        <th class=\"col_heading level0 col1\" >Average Price</th> \n",
       "        <th class=\"col_heading level0 col2\" >Number of Purchases</th> \n",
       "        <th class=\"col_heading level0 col3\" >Total Revenue</th> \n",
       "    </tr></thead> \n",
       "<tbody>    <tr> \n",
       "        <th id=\"T_cd1dcf0c_c48d_11e8_9952_acbc32b317cflevel0_row0\" class=\"row_heading level0 row0\" >0</th> \n",
       "        <td id=\"T_cd1dcf0c_c48d_11e8_9952_acbc32b317cfrow0_col0\" class=\"data row0 col0\" >183</td> \n",
       "        <td id=\"T_cd1dcf0c_c48d_11e8_9952_acbc32b317cfrow0_col1\" class=\"data row0 col1\" >$3.05</td> \n",
       "        <td id=\"T_cd1dcf0c_c48d_11e8_9952_acbc32b317cfrow0_col2\" class=\"data row0 col2\" >780</td> \n",
       "        <td id=\"T_cd1dcf0c_c48d_11e8_9952_acbc32b317cfrow0_col3\" class=\"data row0 col3\" >$2379.77</td> \n",
       "    </tr></tbody> \n",
       "</table> "
      ],
      "text/plain": [
       "<pandas.io.formats.style.Styler at 0x10fe26b70>"
      ]
     },
     "execution_count": 134,
     "metadata": {},
     "output_type": "execute_result"
    }
   ],
   "source": [
    "#display result in a dataframe\n",
    "purchasing_analysis_df = pd.DataFrame({'Number of Unique Items':[count_items],\n",
    "                                       'Average Price':[average_price],\n",
    "                                       'Number of Purchases':[count_purchase],\n",
    "                                       'Total Revenue':[revenue_sum]})\n",
    "\n",
    "purchasing_analysis_df.style.format({'Average Price': '${:.2f}',\n",
    "                                    'Total Revenue': '${:.2f}'})"
   ]
  },
  {
   "cell_type": "markdown",
   "metadata": {},
   "source": [
    "### Gender Demographics"
   ]
  },
  {
   "cell_type": "code",
   "execution_count": 135,
   "metadata": {},
   "outputs": [
    {
     "data": {
      "text/plain": [
       "Purchase ID    576\n",
       "SN             576\n",
       "Age            576\n",
       "Gender         576\n",
       "Item ID        576\n",
       "Item Name      576\n",
       "Price          576\n",
       "dtype: int64"
      ]
     },
     "execution_count": 135,
     "metadata": {},
     "output_type": "execute_result"
    }
   ],
   "source": [
    "#filter duplicated players\n",
    "dedupe_players_df = df.drop_duplicates('SN')\n",
    "#Check if all the duplicated players have been successfully deduped in \n",
    "#the dedupe dataframe \n",
    "dedupe_players_df.count()"
   ]
  },
  {
   "cell_type": "code",
   "execution_count": 136,
   "metadata": {},
   "outputs": [
    {
     "data": {
      "text/plain": [
       "Gender\n",
       "Female                    81\n",
       "Male                     484\n",
       "Other / Non-Disclosed     11\n",
       "Name: Gender, dtype: int64"
      ]
     },
     "execution_count": 136,
     "metadata": {},
     "output_type": "execute_result"
    }
   ],
   "source": [
    "#Gender distribution in players (count)\n",
    "demographics_count = dedupe_players_df.groupby(['Gender'])['Gender'].count()\n",
    "demographics_count"
   ]
  },
  {
   "cell_type": "code",
   "execution_count": 137,
   "metadata": {},
   "outputs": [
    {
     "data": {
      "text/plain": [
       "Gender\n",
       "Female                   0.140625\n",
       "Male                     0.840278\n",
       "Other / Non-Disclosed    0.019097\n",
       "Name: Gender, dtype: float64"
      ]
     },
     "execution_count": 137,
     "metadata": {},
     "output_type": "execute_result"
    }
   ],
   "source": [
    "#Gender distribution in players (%)\n",
    "demographics_percents = demographics_count/dedupe_players_df['Gender'].count()\n",
    "demographics_percents"
   ]
  },
  {
   "cell_type": "code",
   "execution_count": 138,
   "metadata": {},
   "outputs": [
    {
     "data": {
      "text/html": [
       "<style  type=\"text/css\" >\n",
       "</style>  \n",
       "<table id=\"T_cd2992ba_c48d_11e8_9c1d_acbc32b317cf\" > \n",
       "<thead>    <tr> \n",
       "        <th class=\"blank level0\" ></th> \n",
       "        <th class=\"col_heading level0 col0\" >Total Count</th> \n",
       "        <th class=\"col_heading level0 col1\" >Percents</th> \n",
       "    </tr>    <tr> \n",
       "        <th class=\"index_name level0\" >Gender</th> \n",
       "        <th class=\"blank\" ></th> \n",
       "        <th class=\"blank\" ></th> \n",
       "    </tr></thead> \n",
       "<tbody>    <tr> \n",
       "        <th id=\"T_cd2992ba_c48d_11e8_9c1d_acbc32b317cflevel0_row0\" class=\"row_heading level0 row0\" >Male</th> \n",
       "        <td id=\"T_cd2992ba_c48d_11e8_9c1d_acbc32b317cfrow0_col0\" class=\"data row0 col0\" >484</td> \n",
       "        <td id=\"T_cd2992ba_c48d_11e8_9c1d_acbc32b317cfrow0_col1\" class=\"data row0 col1\" >84.03%</td> \n",
       "    </tr>    <tr> \n",
       "        <th id=\"T_cd2992ba_c48d_11e8_9c1d_acbc32b317cflevel0_row1\" class=\"row_heading level0 row1\" >Female</th> \n",
       "        <td id=\"T_cd2992ba_c48d_11e8_9c1d_acbc32b317cfrow1_col0\" class=\"data row1 col0\" >81</td> \n",
       "        <td id=\"T_cd2992ba_c48d_11e8_9c1d_acbc32b317cfrow1_col1\" class=\"data row1 col1\" >14.06%</td> \n",
       "    </tr>    <tr> \n",
       "        <th id=\"T_cd2992ba_c48d_11e8_9c1d_acbc32b317cflevel0_row2\" class=\"row_heading level0 row2\" >Other / Non-Disclosed</th> \n",
       "        <td id=\"T_cd2992ba_c48d_11e8_9c1d_acbc32b317cfrow2_col0\" class=\"data row2 col0\" >11</td> \n",
       "        <td id=\"T_cd2992ba_c48d_11e8_9c1d_acbc32b317cfrow2_col1\" class=\"data row2 col1\" >1.91%</td> \n",
       "    </tr></tbody> \n",
       "</table> "
      ],
      "text/plain": [
       "<pandas.io.formats.style.Styler at 0x119d61160>"
      ]
     },
     "execution_count": 138,
     "metadata": {},
     "output_type": "execute_result"
    }
   ],
   "source": [
    "#Dislay result in a dataframe, sorted high to low by Total Count\n",
    "demo_df=pd.DataFrame({'Total Count':demographics_count, \n",
    "                      'Percents':demographics_percents})\n",
    "demo_df_sorted=demo_df.sort_values(['Total Count'],ascending = False)\n",
    "demo_df_sorted.style.format({'Percents': '{:.2%}'})"
   ]
  },
  {
   "cell_type": "markdown",
   "metadata": {},
   "source": [
    "### Purchasing Analysis"
   ]
  },
  {
   "cell_type": "code",
   "execution_count": 139,
   "metadata": {},
   "outputs": [
    {
     "data": {
      "text/plain": [
       "Gender\n",
       "Female                   113\n",
       "Male                     652\n",
       "Other / Non-Disclosed     15\n",
       "Name: Purchase ID, dtype: int64"
      ]
     },
     "execution_count": 139,
     "metadata": {},
     "output_type": "execute_result"
    }
   ],
   "source": [
    "#purchase count by gender\n",
    "purchase_count_gender = df.groupby(['Gender'])['Purchase ID'].count()\n",
    "purchase_count_gender"
   ]
  },
  {
   "cell_type": "code",
   "execution_count": 140,
   "metadata": {},
   "outputs": [
    {
     "data": {
      "text/plain": [
       "Gender\n",
       "Female                   3.203009\n",
       "Male                     3.017853\n",
       "Other / Non-Disclosed    3.346000\n",
       "Name: Price, dtype: float64"
      ]
     },
     "execution_count": 140,
     "metadata": {},
     "output_type": "execute_result"
    }
   ],
   "source": [
    "#average purchase price by gender\n",
    "purchase_avg_price_gender = df.groupby(['Gender'])['Price'].mean()\n",
    "purchase_avg_price_gender"
   ]
  },
  {
   "cell_type": "code",
   "execution_count": 141,
   "metadata": {},
   "outputs": [
    {
     "data": {
      "text/plain": [
       "Gender\n",
       "Female                    361.94\n",
       "Male                     1967.64\n",
       "Other / Non-Disclosed      50.19\n",
       "Name: Price, dtype: float64"
      ]
     },
     "execution_count": 141,
     "metadata": {},
     "output_type": "execute_result"
    }
   ],
   "source": [
    "#total purchase value by gender\n",
    "total_purchase_value_gender = df.groupby(['Gender'])['Price'].sum()\n",
    "total_purchase_value_gender"
   ]
  },
  {
   "cell_type": "code",
   "execution_count": 142,
   "metadata": {},
   "outputs": [
    {
     "data": {
      "text/plain": [
       "Gender\n",
       "Female                   4.468395\n",
       "Male                     4.065372\n",
       "Other / Non-Disclosed    4.562727\n",
       "dtype: float64"
      ]
     },
     "execution_count": 142,
     "metadata": {},
     "output_type": "execute_result"
    }
   ],
   "source": [
    "#Avg total purchase per person by gender\n",
    "avg_total_purchase_gender = total_purchase_value_gender / demographics_count\n",
    "avg_total_purchase_gender"
   ]
  },
  {
   "cell_type": "code",
   "execution_count": 143,
   "metadata": {},
   "outputs": [
    {
     "data": {
      "text/html": [
       "<style  type=\"text/css\" >\n",
       "</style>  \n",
       "<table id=\"T_cd38adf6_c48d_11e8_86fb_acbc32b317cf\" > \n",
       "<thead>    <tr> \n",
       "        <th class=\"blank level0\" ></th> \n",
       "        <th class=\"col_heading level0 col0\" >Purchase Count</th> \n",
       "        <th class=\"col_heading level0 col1\" >Average Purchase Price</th> \n",
       "        <th class=\"col_heading level0 col2\" >Total Purchase Value</th> \n",
       "        <th class=\"col_heading level0 col3\" >Avg Total Purchase per Person</th> \n",
       "    </tr>    <tr> \n",
       "        <th class=\"index_name level0\" >Gender</th> \n",
       "        <th class=\"blank\" ></th> \n",
       "        <th class=\"blank\" ></th> \n",
       "        <th class=\"blank\" ></th> \n",
       "        <th class=\"blank\" ></th> \n",
       "    </tr></thead> \n",
       "<tbody>    <tr> \n",
       "        <th id=\"T_cd38adf6_c48d_11e8_86fb_acbc32b317cflevel0_row0\" class=\"row_heading level0 row0\" >Male</th> \n",
       "        <td id=\"T_cd38adf6_c48d_11e8_86fb_acbc32b317cfrow0_col0\" class=\"data row0 col0\" >652</td> \n",
       "        <td id=\"T_cd38adf6_c48d_11e8_86fb_acbc32b317cfrow0_col1\" class=\"data row0 col1\" >$3.02</td> \n",
       "        <td id=\"T_cd38adf6_c48d_11e8_86fb_acbc32b317cfrow0_col2\" class=\"data row0 col2\" >$1967.64</td> \n",
       "        <td id=\"T_cd38adf6_c48d_11e8_86fb_acbc32b317cfrow0_col3\" class=\"data row0 col3\" >$4.07</td> \n",
       "    </tr>    <tr> \n",
       "        <th id=\"T_cd38adf6_c48d_11e8_86fb_acbc32b317cflevel0_row1\" class=\"row_heading level0 row1\" >Female</th> \n",
       "        <td id=\"T_cd38adf6_c48d_11e8_86fb_acbc32b317cfrow1_col0\" class=\"data row1 col0\" >113</td> \n",
       "        <td id=\"T_cd38adf6_c48d_11e8_86fb_acbc32b317cfrow1_col1\" class=\"data row1 col1\" >$3.20</td> \n",
       "        <td id=\"T_cd38adf6_c48d_11e8_86fb_acbc32b317cfrow1_col2\" class=\"data row1 col2\" >$361.94</td> \n",
       "        <td id=\"T_cd38adf6_c48d_11e8_86fb_acbc32b317cfrow1_col3\" class=\"data row1 col3\" >$4.47</td> \n",
       "    </tr>    <tr> \n",
       "        <th id=\"T_cd38adf6_c48d_11e8_86fb_acbc32b317cflevel0_row2\" class=\"row_heading level0 row2\" >Other / Non-Disclosed</th> \n",
       "        <td id=\"T_cd38adf6_c48d_11e8_86fb_acbc32b317cfrow2_col0\" class=\"data row2 col0\" >15</td> \n",
       "        <td id=\"T_cd38adf6_c48d_11e8_86fb_acbc32b317cfrow2_col1\" class=\"data row2 col1\" >$3.35</td> \n",
       "        <td id=\"T_cd38adf6_c48d_11e8_86fb_acbc32b317cfrow2_col2\" class=\"data row2 col2\" >$50.19</td> \n",
       "        <td id=\"T_cd38adf6_c48d_11e8_86fb_acbc32b317cfrow2_col3\" class=\"data row2 col3\" >$4.56</td> \n",
       "    </tr></tbody> \n",
       "</table> "
      ],
      "text/plain": [
       "<pandas.io.formats.style.Styler at 0x119d618d0>"
      ]
     },
     "execution_count": 143,
     "metadata": {},
     "output_type": "execute_result"
    }
   ],
   "source": [
    "#display all the data in one dataframe\n",
    "purchasing_analysis = pd.DataFrame({'Purchase Count':purchase_count_gender,\n",
    "                                    'Average Purchase Price':purchase_avg_price_gender,\n",
    "                                    'Total Purchase Value':total_purchase_value_gender,\n",
    "                                    'Avg Total Purchase per Person':avg_total_purchase_gender})\n",
    "\n",
    "purchasing_analysis_sorted = purchasing_analysis.sort_values('Purchase Count',ascending=False)\n",
    "purchasing_analysis_sorted.style.format({'Average Purchase Price':'${:.2f}',\n",
    "                                    'Total Purchase Value':'${:.2f}',\n",
    "                                    'Avg Total Purchase per Person':'${:.2f}'})"
   ]
  },
  {
   "cell_type": "markdown",
   "metadata": {},
   "source": [
    "### Age Demogrpahics"
   ]
  },
  {
   "cell_type": "code",
   "execution_count": 144,
   "metadata": {},
   "outputs": [
    {
     "data": {
      "text/html": [
       "<div>\n",
       "<style scoped>\n",
       "    .dataframe tbody tr th:only-of-type {\n",
       "        vertical-align: middle;\n",
       "    }\n",
       "\n",
       "    .dataframe tbody tr th {\n",
       "        vertical-align: top;\n",
       "    }\n",
       "\n",
       "    .dataframe thead th {\n",
       "        text-align: right;\n",
       "    }\n",
       "</style>\n",
       "<table border=\"1\" class=\"dataframe\">\n",
       "  <thead>\n",
       "    <tr style=\"text-align: right;\">\n",
       "      <th></th>\n",
       "      <th>Purchase ID</th>\n",
       "      <th>SN</th>\n",
       "      <th>Age</th>\n",
       "      <th>Gender</th>\n",
       "      <th>Item ID</th>\n",
       "      <th>Item Name</th>\n",
       "      <th>Price</th>\n",
       "      <th>Age Bracket</th>\n",
       "    </tr>\n",
       "  </thead>\n",
       "  <tbody>\n",
       "    <tr>\n",
       "      <th>0</th>\n",
       "      <td>0</td>\n",
       "      <td>Lisim78</td>\n",
       "      <td>20</td>\n",
       "      <td>Male</td>\n",
       "      <td>108</td>\n",
       "      <td>Extraction, Quickblade Of Trembling Hands</td>\n",
       "      <td>3.53</td>\n",
       "      <td>20~24</td>\n",
       "    </tr>\n",
       "    <tr>\n",
       "      <th>1</th>\n",
       "      <td>1</td>\n",
       "      <td>Lisovynya38</td>\n",
       "      <td>40</td>\n",
       "      <td>Male</td>\n",
       "      <td>143</td>\n",
       "      <td>Frenzied Scimitar</td>\n",
       "      <td>1.56</td>\n",
       "      <td>&gt;40</td>\n",
       "    </tr>\n",
       "    <tr>\n",
       "      <th>2</th>\n",
       "      <td>2</td>\n",
       "      <td>Ithergue48</td>\n",
       "      <td>24</td>\n",
       "      <td>Male</td>\n",
       "      <td>92</td>\n",
       "      <td>Final Critic</td>\n",
       "      <td>4.88</td>\n",
       "      <td>20~24</td>\n",
       "    </tr>\n",
       "    <tr>\n",
       "      <th>3</th>\n",
       "      <td>3</td>\n",
       "      <td>Chamassasya86</td>\n",
       "      <td>24</td>\n",
       "      <td>Male</td>\n",
       "      <td>100</td>\n",
       "      <td>Blindscythe</td>\n",
       "      <td>3.27</td>\n",
       "      <td>20~24</td>\n",
       "    </tr>\n",
       "    <tr>\n",
       "      <th>4</th>\n",
       "      <td>4</td>\n",
       "      <td>Iskosia90</td>\n",
       "      <td>23</td>\n",
       "      <td>Male</td>\n",
       "      <td>131</td>\n",
       "      <td>Fury</td>\n",
       "      <td>1.44</td>\n",
       "      <td>20~24</td>\n",
       "    </tr>\n",
       "  </tbody>\n",
       "</table>\n",
       "</div>"
      ],
      "text/plain": [
       "   Purchase ID             SN  Age Gender  Item ID  \\\n",
       "0            0        Lisim78   20   Male      108   \n",
       "1            1    Lisovynya38   40   Male      143   \n",
       "2            2     Ithergue48   24   Male       92   \n",
       "3            3  Chamassasya86   24   Male      100   \n",
       "4            4      Iskosia90   23   Male      131   \n",
       "\n",
       "                                   Item Name  Price Age Bracket  \n",
       "0  Extraction, Quickblade Of Trembling Hands   3.53       20~24  \n",
       "1                          Frenzied Scimitar   1.56         >40  \n",
       "2                               Final Critic   4.88       20~24  \n",
       "3                                Blindscythe   3.27       20~24  \n",
       "4                                       Fury   1.44       20~24  "
      ]
     },
     "execution_count": 144,
     "metadata": {},
     "output_type": "execute_result"
    }
   ],
   "source": [
    "#Craete bins\n",
    "age_bins = [0,9,14,19,24,29,34,39,100]\n",
    "\n",
    "#Create labels for bins\n",
    "age_name = ['<10','10~14','15~19','20~24','25~29','30~34','35~39','>40']  \n",
    "\n",
    "#implement the age brack back to dataset\n",
    "df['Age Bracket']=pd.cut(df['Age'],age_bins,labels=age_name)\n",
    "\n",
    "#drop duplicated players\n",
    "dedupe_players_df = df.drop_duplicates('SN')\n",
    "\n",
    "#display the dataframe\n",
    "dedupe_players_df.head()"
   ]
  },
  {
   "cell_type": "code",
   "execution_count": 145,
   "metadata": {},
   "outputs": [
    {
     "data": {
      "text/plain": [
       "Age Bracket\n",
       "<10       17\n",
       "10~14     22\n",
       "15~19    107\n",
       "20~24    258\n",
       "25~29     77\n",
       "30~34     52\n",
       "35~39     31\n",
       ">40       12\n",
       "Name: Purchase ID, dtype: int64"
      ]
     },
     "execution_count": 145,
     "metadata": {},
     "output_type": "execute_result"
    }
   ],
   "source": [
    "#Calculate purchase count by age\n",
    "purchase_count_by_age_demo = dedupe_players_df.groupby(['Age Bracket'])['Purchase ID'].count()\n",
    "purchase_count_by_age_demo"
   ]
  },
  {
   "cell_type": "code",
   "execution_count": 146,
   "metadata": {
    "scrolled": true
   },
   "outputs": [
    {
     "data": {
      "text/plain": [
       "Age Bracket\n",
       "<10      0.029514\n",
       "10~14    0.038194\n",
       "15~19    0.185764\n",
       "20~24    0.447917\n",
       "25~29    0.133681\n",
       "30~34    0.090278\n",
       "35~39    0.053819\n",
       ">40      0.020833\n",
       "Name: Purchase ID, dtype: float64"
      ]
     },
     "execution_count": 146,
     "metadata": {},
     "output_type": "execute_result"
    }
   ],
   "source": [
    "#calculate the percentage of players by age\n",
    "purchase_percents_by_age_demo = purchase_count_by_age_demo / dedupe_players_df['Age'].count()\n",
    "purchase_percents_by_age_demo"
   ]
  },
  {
   "cell_type": "code",
   "execution_count": 147,
   "metadata": {},
   "outputs": [
    {
     "data": {
      "text/html": [
       "<style  type=\"text/css\" >\n",
       "</style>  \n",
       "<table id=\"T_cd48aad0_c48d_11e8_870c_acbc32b317cf\" > \n",
       "<thead>    <tr> \n",
       "        <th class=\"blank level0\" ></th> \n",
       "        <th class=\"col_heading level0 col0\" >Total Count</th> \n",
       "        <th class=\"col_heading level0 col1\" >Percentage of Players</th> \n",
       "    </tr>    <tr> \n",
       "        <th class=\"index_name level0\" >Age Bracket</th> \n",
       "        <th class=\"blank\" ></th> \n",
       "        <th class=\"blank\" ></th> \n",
       "    </tr></thead> \n",
       "<tbody>    <tr> \n",
       "        <th id=\"T_cd48aad0_c48d_11e8_870c_acbc32b317cflevel0_row0\" class=\"row_heading level0 row0\" ><10</th> \n",
       "        <td id=\"T_cd48aad0_c48d_11e8_870c_acbc32b317cfrow0_col0\" class=\"data row0 col0\" >17</td> \n",
       "        <td id=\"T_cd48aad0_c48d_11e8_870c_acbc32b317cfrow0_col1\" class=\"data row0 col1\" >2.95%</td> \n",
       "    </tr>    <tr> \n",
       "        <th id=\"T_cd48aad0_c48d_11e8_870c_acbc32b317cflevel0_row1\" class=\"row_heading level0 row1\" >10~14</th> \n",
       "        <td id=\"T_cd48aad0_c48d_11e8_870c_acbc32b317cfrow1_col0\" class=\"data row1 col0\" >22</td> \n",
       "        <td id=\"T_cd48aad0_c48d_11e8_870c_acbc32b317cfrow1_col1\" class=\"data row1 col1\" >3.82%</td> \n",
       "    </tr>    <tr> \n",
       "        <th id=\"T_cd48aad0_c48d_11e8_870c_acbc32b317cflevel0_row2\" class=\"row_heading level0 row2\" >15~19</th> \n",
       "        <td id=\"T_cd48aad0_c48d_11e8_870c_acbc32b317cfrow2_col0\" class=\"data row2 col0\" >107</td> \n",
       "        <td id=\"T_cd48aad0_c48d_11e8_870c_acbc32b317cfrow2_col1\" class=\"data row2 col1\" >18.58%</td> \n",
       "    </tr>    <tr> \n",
       "        <th id=\"T_cd48aad0_c48d_11e8_870c_acbc32b317cflevel0_row3\" class=\"row_heading level0 row3\" >20~24</th> \n",
       "        <td id=\"T_cd48aad0_c48d_11e8_870c_acbc32b317cfrow3_col0\" class=\"data row3 col0\" >258</td> \n",
       "        <td id=\"T_cd48aad0_c48d_11e8_870c_acbc32b317cfrow3_col1\" class=\"data row3 col1\" >44.79%</td> \n",
       "    </tr>    <tr> \n",
       "        <th id=\"T_cd48aad0_c48d_11e8_870c_acbc32b317cflevel0_row4\" class=\"row_heading level0 row4\" >25~29</th> \n",
       "        <td id=\"T_cd48aad0_c48d_11e8_870c_acbc32b317cfrow4_col0\" class=\"data row4 col0\" >77</td> \n",
       "        <td id=\"T_cd48aad0_c48d_11e8_870c_acbc32b317cfrow4_col1\" class=\"data row4 col1\" >13.37%</td> \n",
       "    </tr></tbody> \n",
       "</table> "
      ],
      "text/plain": [
       "<pandas.io.formats.style.Styler at 0x10fe306d8>"
      ]
     },
     "execution_count": 147,
     "metadata": {},
     "output_type": "execute_result"
    }
   ],
   "source": [
    "#display the final result in  a single dataframe\n",
    "age_demographics_df = pd.DataFrame({'Total Count': purchase_count_by_age_demo, \n",
    "                                   'Percentage of Players': purchase_percents_by_age_demo})\n",
    "age_demographics_df.head().style.format({'Percentage of Players':'{:.2%}'})"
   ]
  },
  {
   "cell_type": "markdown",
   "metadata": {},
   "source": [
    "### Purchaing Analysis (Age)"
   ]
  },
  {
   "cell_type": "code",
   "execution_count": 148,
   "metadata": {},
   "outputs": [
    {
     "data": {
      "text/plain": [
       "Age Bracket\n",
       "<10       23\n",
       "10~14     28\n",
       "15~19    136\n",
       "20~24    365\n",
       "25~29    101\n",
       "30~34     73\n",
       "35~39     41\n",
       ">40       13\n",
       "Name: Purchase ID, dtype: int64"
      ]
     },
     "execution_count": 148,
     "metadata": {},
     "output_type": "execute_result"
    }
   ],
   "source": [
    "#Purchasing count by age (using undeduped player data)\n",
    "purchase_count_by_age = df.groupby(['Age Bracket'])['Purchase ID'].count()\n",
    "purchase_count_by_age"
   ]
  },
  {
   "cell_type": "code",
   "execution_count": 149,
   "metadata": {},
   "outputs": [
    {
     "data": {
      "text/plain": [
       "Age Bracket\n",
       "<10      3.353478\n",
       "10~14    2.956429\n",
       "15~19    3.035956\n",
       "20~24    3.052219\n",
       "25~29    2.900990\n",
       "30~34    2.931507\n",
       "35~39    3.601707\n",
       ">40      2.941538\n",
       "Name: Price, dtype: float64"
      ]
     },
     "execution_count": 149,
     "metadata": {},
     "output_type": "execute_result"
    }
   ],
   "source": [
    "#Calculate average purchase price by age\n",
    "purchase_price_mean_by_age=df.groupby(['Age Bracket'])['Price'].mean()\n",
    "purchase_price_mean_by_age"
   ]
  },
  {
   "cell_type": "code",
   "execution_count": 150,
   "metadata": {},
   "outputs": [
    {
     "data": {
      "text/plain": [
       "Age Bracket\n",
       "<10        77.13\n",
       "10~14      82.78\n",
       "15~19     412.89\n",
       "20~24    1114.06\n",
       "25~29     293.00\n",
       "30~34     214.00\n",
       "35~39     147.67\n",
       ">40        38.24\n",
       "Name: Price, dtype: float64"
      ]
     },
     "execution_count": 150,
     "metadata": {},
     "output_type": "execute_result"
    }
   ],
   "source": [
    "#Calculate total purcahse value\n",
    "purchase_value_by_age = df.groupby(['Age Bracket'])['Price'].sum()\n",
    "purchase_value_by_age"
   ]
  },
  {
   "cell_type": "code",
   "execution_count": 151,
   "metadata": {},
   "outputs": [
    {
     "data": {
      "text/plain": [
       "Age Bracket\n",
       "<10      4.537059\n",
       "10~14    3.762727\n",
       "15~19    3.858785\n",
       "20~24    4.318062\n",
       "25~29    3.805195\n",
       "30~34    4.115385\n",
       "35~39    4.763548\n",
       ">40      3.186667\n",
       "dtype: float64"
      ]
     },
     "execution_count": 151,
     "metadata": {},
     "output_type": "execute_result"
    }
   ],
   "source": [
    "#Average total purchase per person\n",
    "purchase_per_person_by_age = purchase_value_by_age/purchase_count_by_age_demo\n",
    "purchase_per_person_by_age"
   ]
  },
  {
   "cell_type": "code",
   "execution_count": 152,
   "metadata": {},
   "outputs": [
    {
     "data": {
      "text/html": [
       "<style  type=\"text/css\" >\n",
       "</style>  \n",
       "<table id=\"T_cd59669a_c48d_11e8_9014_acbc32b317cf\" > \n",
       "<thead>    <tr> \n",
       "        <th class=\"blank level0\" ></th> \n",
       "        <th class=\"col_heading level0 col0\" >Purchase Count</th> \n",
       "        <th class=\"col_heading level0 col1\" >Average Purchase Price</th> \n",
       "        <th class=\"col_heading level0 col2\" >Total Purchase Value</th> \n",
       "        <th class=\"col_heading level0 col3\" >Avg Total Purchase per Person</th> \n",
       "    </tr>    <tr> \n",
       "        <th class=\"index_name level0\" >Age Bracket</th> \n",
       "        <th class=\"blank\" ></th> \n",
       "        <th class=\"blank\" ></th> \n",
       "        <th class=\"blank\" ></th> \n",
       "        <th class=\"blank\" ></th> \n",
       "    </tr></thead> \n",
       "<tbody>    <tr> \n",
       "        <th id=\"T_cd59669a_c48d_11e8_9014_acbc32b317cflevel0_row0\" class=\"row_heading level0 row0\" ><10</th> \n",
       "        <td id=\"T_cd59669a_c48d_11e8_9014_acbc32b317cfrow0_col0\" class=\"data row0 col0\" >23</td> \n",
       "        <td id=\"T_cd59669a_c48d_11e8_9014_acbc32b317cfrow0_col1\" class=\"data row0 col1\" >$3.35</td> \n",
       "        <td id=\"T_cd59669a_c48d_11e8_9014_acbc32b317cfrow0_col2\" class=\"data row0 col2\" >$77.13</td> \n",
       "        <td id=\"T_cd59669a_c48d_11e8_9014_acbc32b317cfrow0_col3\" class=\"data row0 col3\" >$4.54</td> \n",
       "    </tr>    <tr> \n",
       "        <th id=\"T_cd59669a_c48d_11e8_9014_acbc32b317cflevel0_row1\" class=\"row_heading level0 row1\" >10~14</th> \n",
       "        <td id=\"T_cd59669a_c48d_11e8_9014_acbc32b317cfrow1_col0\" class=\"data row1 col0\" >28</td> \n",
       "        <td id=\"T_cd59669a_c48d_11e8_9014_acbc32b317cfrow1_col1\" class=\"data row1 col1\" >$2.96</td> \n",
       "        <td id=\"T_cd59669a_c48d_11e8_9014_acbc32b317cfrow1_col2\" class=\"data row1 col2\" >$82.78</td> \n",
       "        <td id=\"T_cd59669a_c48d_11e8_9014_acbc32b317cfrow1_col3\" class=\"data row1 col3\" >$3.76</td> \n",
       "    </tr>    <tr> \n",
       "        <th id=\"T_cd59669a_c48d_11e8_9014_acbc32b317cflevel0_row2\" class=\"row_heading level0 row2\" >15~19</th> \n",
       "        <td id=\"T_cd59669a_c48d_11e8_9014_acbc32b317cfrow2_col0\" class=\"data row2 col0\" >136</td> \n",
       "        <td id=\"T_cd59669a_c48d_11e8_9014_acbc32b317cfrow2_col1\" class=\"data row2 col1\" >$3.04</td> \n",
       "        <td id=\"T_cd59669a_c48d_11e8_9014_acbc32b317cfrow2_col2\" class=\"data row2 col2\" >$412.89</td> \n",
       "        <td id=\"T_cd59669a_c48d_11e8_9014_acbc32b317cfrow2_col3\" class=\"data row2 col3\" >$3.86</td> \n",
       "    </tr>    <tr> \n",
       "        <th id=\"T_cd59669a_c48d_11e8_9014_acbc32b317cflevel0_row3\" class=\"row_heading level0 row3\" >20~24</th> \n",
       "        <td id=\"T_cd59669a_c48d_11e8_9014_acbc32b317cfrow3_col0\" class=\"data row3 col0\" >365</td> \n",
       "        <td id=\"T_cd59669a_c48d_11e8_9014_acbc32b317cfrow3_col1\" class=\"data row3 col1\" >$3.05</td> \n",
       "        <td id=\"T_cd59669a_c48d_11e8_9014_acbc32b317cfrow3_col2\" class=\"data row3 col2\" >$1114.06</td> \n",
       "        <td id=\"T_cd59669a_c48d_11e8_9014_acbc32b317cfrow3_col3\" class=\"data row3 col3\" >$4.32</td> \n",
       "    </tr>    <tr> \n",
       "        <th id=\"T_cd59669a_c48d_11e8_9014_acbc32b317cflevel0_row4\" class=\"row_heading level0 row4\" >25~29</th> \n",
       "        <td id=\"T_cd59669a_c48d_11e8_9014_acbc32b317cfrow4_col0\" class=\"data row4 col0\" >101</td> \n",
       "        <td id=\"T_cd59669a_c48d_11e8_9014_acbc32b317cfrow4_col1\" class=\"data row4 col1\" >$2.90</td> \n",
       "        <td id=\"T_cd59669a_c48d_11e8_9014_acbc32b317cfrow4_col2\" class=\"data row4 col2\" >$293.00</td> \n",
       "        <td id=\"T_cd59669a_c48d_11e8_9014_acbc32b317cfrow4_col3\" class=\"data row4 col3\" >$3.81</td> \n",
       "    </tr>    <tr> \n",
       "        <th id=\"T_cd59669a_c48d_11e8_9014_acbc32b317cflevel0_row5\" class=\"row_heading level0 row5\" >30~34</th> \n",
       "        <td id=\"T_cd59669a_c48d_11e8_9014_acbc32b317cfrow5_col0\" class=\"data row5 col0\" >73</td> \n",
       "        <td id=\"T_cd59669a_c48d_11e8_9014_acbc32b317cfrow5_col1\" class=\"data row5 col1\" >$2.93</td> \n",
       "        <td id=\"T_cd59669a_c48d_11e8_9014_acbc32b317cfrow5_col2\" class=\"data row5 col2\" >$214.00</td> \n",
       "        <td id=\"T_cd59669a_c48d_11e8_9014_acbc32b317cfrow5_col3\" class=\"data row5 col3\" >$4.12</td> \n",
       "    </tr>    <tr> \n",
       "        <th id=\"T_cd59669a_c48d_11e8_9014_acbc32b317cflevel0_row6\" class=\"row_heading level0 row6\" >35~39</th> \n",
       "        <td id=\"T_cd59669a_c48d_11e8_9014_acbc32b317cfrow6_col0\" class=\"data row6 col0\" >41</td> \n",
       "        <td id=\"T_cd59669a_c48d_11e8_9014_acbc32b317cfrow6_col1\" class=\"data row6 col1\" >$3.60</td> \n",
       "        <td id=\"T_cd59669a_c48d_11e8_9014_acbc32b317cfrow6_col2\" class=\"data row6 col2\" >$147.67</td> \n",
       "        <td id=\"T_cd59669a_c48d_11e8_9014_acbc32b317cfrow6_col3\" class=\"data row6 col3\" >$4.76</td> \n",
       "    </tr>    <tr> \n",
       "        <th id=\"T_cd59669a_c48d_11e8_9014_acbc32b317cflevel0_row7\" class=\"row_heading level0 row7\" >>40</th> \n",
       "        <td id=\"T_cd59669a_c48d_11e8_9014_acbc32b317cfrow7_col0\" class=\"data row7 col0\" >13</td> \n",
       "        <td id=\"T_cd59669a_c48d_11e8_9014_acbc32b317cfrow7_col1\" class=\"data row7 col1\" >$2.94</td> \n",
       "        <td id=\"T_cd59669a_c48d_11e8_9014_acbc32b317cfrow7_col2\" class=\"data row7 col2\" >$38.24</td> \n",
       "        <td id=\"T_cd59669a_c48d_11e8_9014_acbc32b317cfrow7_col3\" class=\"data row7 col3\" >$3.19</td> \n",
       "    </tr></tbody> \n",
       "</table> "
      ],
      "text/plain": [
       "<pandas.io.formats.style.Styler at 0x10fe3b240>"
      ]
     },
     "execution_count": 152,
     "metadata": {},
     "output_type": "execute_result"
    }
   ],
   "source": [
    "#Put result into a single dataframe\n",
    "age_purchase_df = pd.DataFrame({'Purchase Count': purchase_count_by_age,\n",
    "                                'Average Purchase Price': purchase_price_mean_by_age,\n",
    "                                'Total Purchase Value': purchase_value_by_age,\n",
    "                                'Avg Total Purchase per Person': purchase_per_person_by_age})\n",
    "\n",
    "age_purchase_df.style.format({'Average Purchase Price': '${:.2f}',\n",
    "                              'Total Purchase Value': '${:.2f}',\n",
    "                              'Avg Total Purchase per Person':'${:.2f}'})"
   ]
  },
  {
   "cell_type": "markdown",
   "metadata": {},
   "source": [
    "### Top Spenders"
   ]
  },
  {
   "cell_type": "code",
   "execution_count": 153,
   "metadata": {},
   "outputs": [
    {
     "data": {
      "text/plain": [
       "SN\n",
       "Lisosia93      5\n",
       "Iral74         4\n",
       "Idastidru52    4\n",
       "Aina42         3\n",
       "Iri67          3\n",
       "Name: Purchase ID, dtype: int64"
      ]
     },
     "execution_count": 153,
     "metadata": {},
     "output_type": "execute_result"
    }
   ],
   "source": [
    "#Display player name by number of items purchased\n",
    "top_spender_count = df.groupby(['SN'])['Purchase ID'].count()\n",
    "top_spender_count.sort_values(ascending=False).head()"
   ]
  },
  {
   "cell_type": "code",
   "execution_count": 154,
   "metadata": {},
   "outputs": [
    {
     "data": {
      "text/plain": [
       "SN\n",
       "Adairialis76    2.28\n",
       "Adastirin33     4.48\n",
       "Aeda94          4.91\n",
       "Aela59          4.32\n",
       "Aelaria33       1.79\n",
       "Name: Price, dtype: float64"
      ]
     },
     "execution_count": 154,
     "metadata": {},
     "output_type": "execute_result"
    }
   ],
   "source": [
    "#Calculate average purchase price per player\n",
    "average_purchase_price_per_player = df.groupby(['SN'])['Price'].mean()\n",
    "average_purchase_price_per_player.head()"
   ]
  },
  {
   "cell_type": "code",
   "execution_count": 155,
   "metadata": {},
   "outputs": [
    {
     "data": {
      "text/plain": [
       "SN\n",
       "Adairialis76    2.28\n",
       "Adastirin33     4.48\n",
       "Aeda94          4.91\n",
       "Aela59          4.32\n",
       "Aelaria33       1.79\n",
       "Name: Price, dtype: float64"
      ]
     },
     "execution_count": 155,
     "metadata": {},
     "output_type": "execute_result"
    }
   ],
   "source": [
    "#Total purchase value per player\n",
    "total_purchase_per_player = df.groupby(['SN'])['Price'].sum()\n",
    "total_purchase_per_player.head()"
   ]
  },
  {
   "cell_type": "code",
   "execution_count": 156,
   "metadata": {},
   "outputs": [
    {
     "data": {
      "text/html": [
       "<style  type=\"text/css\" >\n",
       "</style>  \n",
       "<table id=\"T_cd650cd4_c48d_11e8_87a6_acbc32b317cf\" > \n",
       "<thead>    <tr> \n",
       "        <th class=\"blank level0\" ></th> \n",
       "        <th class=\"col_heading level0 col0\" >Purchase Count</th> \n",
       "        <th class=\"col_heading level0 col1\" >Average Purchase Price</th> \n",
       "        <th class=\"col_heading level0 col2\" >Total Purchase Value</th> \n",
       "    </tr>    <tr> \n",
       "        <th class=\"index_name level0\" >SN</th> \n",
       "        <th class=\"blank\" ></th> \n",
       "        <th class=\"blank\" ></th> \n",
       "        <th class=\"blank\" ></th> \n",
       "    </tr></thead> \n",
       "<tbody>    <tr> \n",
       "        <th id=\"T_cd650cd4_c48d_11e8_87a6_acbc32b317cflevel0_row0\" class=\"row_heading level0 row0\" >Lisosia93</th> \n",
       "        <td id=\"T_cd650cd4_c48d_11e8_87a6_acbc32b317cfrow0_col0\" class=\"data row0 col0\" >5</td> \n",
       "        <td id=\"T_cd650cd4_c48d_11e8_87a6_acbc32b317cfrow0_col1\" class=\"data row0 col1\" >$3.79</td> \n",
       "        <td id=\"T_cd650cd4_c48d_11e8_87a6_acbc32b317cfrow0_col2\" class=\"data row0 col2\" >$18.96</td> \n",
       "    </tr>    <tr> \n",
       "        <th id=\"T_cd650cd4_c48d_11e8_87a6_acbc32b317cflevel0_row1\" class=\"row_heading level0 row1\" >Idastidru52</th> \n",
       "        <td id=\"T_cd650cd4_c48d_11e8_87a6_acbc32b317cfrow1_col0\" class=\"data row1 col0\" >4</td> \n",
       "        <td id=\"T_cd650cd4_c48d_11e8_87a6_acbc32b317cfrow1_col1\" class=\"data row1 col1\" >$3.86</td> \n",
       "        <td id=\"T_cd650cd4_c48d_11e8_87a6_acbc32b317cfrow1_col2\" class=\"data row1 col2\" >$15.45</td> \n",
       "    </tr>    <tr> \n",
       "        <th id=\"T_cd650cd4_c48d_11e8_87a6_acbc32b317cflevel0_row2\" class=\"row_heading level0 row2\" >Chamjask73</th> \n",
       "        <td id=\"T_cd650cd4_c48d_11e8_87a6_acbc32b317cfrow2_col0\" class=\"data row2 col0\" >3</td> \n",
       "        <td id=\"T_cd650cd4_c48d_11e8_87a6_acbc32b317cfrow2_col1\" class=\"data row2 col1\" >$4.61</td> \n",
       "        <td id=\"T_cd650cd4_c48d_11e8_87a6_acbc32b317cfrow2_col2\" class=\"data row2 col2\" >$13.83</td> \n",
       "    </tr>    <tr> \n",
       "        <th id=\"T_cd650cd4_c48d_11e8_87a6_acbc32b317cflevel0_row3\" class=\"row_heading level0 row3\" >Iral74</th> \n",
       "        <td id=\"T_cd650cd4_c48d_11e8_87a6_acbc32b317cfrow3_col0\" class=\"data row3 col0\" >4</td> \n",
       "        <td id=\"T_cd650cd4_c48d_11e8_87a6_acbc32b317cfrow3_col1\" class=\"data row3 col1\" >$3.40</td> \n",
       "        <td id=\"T_cd650cd4_c48d_11e8_87a6_acbc32b317cfrow3_col2\" class=\"data row3 col2\" >$13.62</td> \n",
       "    </tr>    <tr> \n",
       "        <th id=\"T_cd650cd4_c48d_11e8_87a6_acbc32b317cflevel0_row4\" class=\"row_heading level0 row4\" >Iskadarya95</th> \n",
       "        <td id=\"T_cd650cd4_c48d_11e8_87a6_acbc32b317cfrow4_col0\" class=\"data row4 col0\" >3</td> \n",
       "        <td id=\"T_cd650cd4_c48d_11e8_87a6_acbc32b317cfrow4_col1\" class=\"data row4 col1\" >$4.37</td> \n",
       "        <td id=\"T_cd650cd4_c48d_11e8_87a6_acbc32b317cfrow4_col2\" class=\"data row4 col2\" >$13.10</td> \n",
       "    </tr></tbody> \n",
       "</table> "
      ],
      "text/plain": [
       "<pandas.io.formats.style.Styler at 0x10fe3b438>"
      ]
     },
     "execution_count": 156,
     "metadata": {},
     "output_type": "execute_result"
    }
   ],
   "source": [
    "#display result in one dataframe and sort by total purchase value from high to low\n",
    "top_spenders = pd.DataFrame({'Purchase Count': top_spender_count,\n",
    "                             'Average Purchase Price': average_purchase_price_per_player,\n",
    "                             'Total Purchase Value': total_purchase_per_player})\n",
    "sorted_top_spenders_df = top_spenders.sort_values('Total Purchase Value',ascending = False)\n",
    "sorted_top_spenders_df.head().style.format({'Total Purchase Value':'${:.2f}',\n",
    "                                           'Average Purchase Price':'${:.2f}'})"
   ]
  },
  {
   "cell_type": "markdown",
   "metadata": {},
   "source": [
    "### Most Popular Items"
   ]
  },
  {
   "cell_type": "code",
   "execution_count": 157,
   "metadata": {},
   "outputs": [
    {
     "data": {
      "text/html": [
       "<div>\n",
       "<style scoped>\n",
       "    .dataframe tbody tr th:only-of-type {\n",
       "        vertical-align: middle;\n",
       "    }\n",
       "\n",
       "    .dataframe tbody tr th {\n",
       "        vertical-align: top;\n",
       "    }\n",
       "\n",
       "    .dataframe thead th {\n",
       "        text-align: right;\n",
       "    }\n",
       "</style>\n",
       "<table border=\"1\" class=\"dataframe\">\n",
       "  <thead>\n",
       "    <tr style=\"text-align: right;\">\n",
       "      <th></th>\n",
       "      <th>Item ID</th>\n",
       "      <th>Item Name</th>\n",
       "      <th>Price</th>\n",
       "    </tr>\n",
       "  </thead>\n",
       "  <tbody>\n",
       "    <tr>\n",
       "      <th>0</th>\n",
       "      <td>108</td>\n",
       "      <td>Extraction, Quickblade Of Trembling Hands</td>\n",
       "      <td>3.53</td>\n",
       "    </tr>\n",
       "    <tr>\n",
       "      <th>1</th>\n",
       "      <td>143</td>\n",
       "      <td>Frenzied Scimitar</td>\n",
       "      <td>1.56</td>\n",
       "    </tr>\n",
       "    <tr>\n",
       "      <th>2</th>\n",
       "      <td>92</td>\n",
       "      <td>Final Critic</td>\n",
       "      <td>4.88</td>\n",
       "    </tr>\n",
       "    <tr>\n",
       "      <th>3</th>\n",
       "      <td>100</td>\n",
       "      <td>Blindscythe</td>\n",
       "      <td>3.27</td>\n",
       "    </tr>\n",
       "    <tr>\n",
       "      <th>4</th>\n",
       "      <td>131</td>\n",
       "      <td>Fury</td>\n",
       "      <td>1.44</td>\n",
       "    </tr>\n",
       "  </tbody>\n",
       "</table>\n",
       "</div>"
      ],
      "text/plain": [
       "   Item ID                                  Item Name  Price\n",
       "0      108  Extraction, Quickblade Of Trembling Hands   3.53\n",
       "1      143                          Frenzied Scimitar   1.56\n",
       "2       92                               Final Critic   4.88\n",
       "3      100                                Blindscythe   3.27\n",
       "4      131                                       Fury   1.44"
      ]
     },
     "execution_count": 157,
     "metadata": {},
     "output_type": "execute_result"
    }
   ],
   "source": [
    "#retrieval certain columns for most popular items analysis\n",
    "popular_item = df[['Item ID','Item Name','Price']]\n",
    "popular_item.head()"
   ]
  },
  {
   "cell_type": "code",
   "execution_count": 158,
   "metadata": {},
   "outputs": [
    {
     "data": {
      "text/plain": [
       "Item ID  Item Name         \n",
       "0        Splinter              4\n",
       "1        Crucifer              3\n",
       "2        Verdict               6\n",
       "3        Phantomlight          6\n",
       "4        Bloodlord's Fetish    5\n",
       "Name: Item ID, dtype: int64"
      ]
     },
     "execution_count": 158,
     "metadata": {},
     "output_type": "execute_result"
    }
   ],
   "source": [
    "#purchase count per item\n",
    "purchase_count = popular_item.groupby(['Item ID','Item Name'])['Item ID'].count()\n",
    "purchase_count.head()"
   ]
  },
  {
   "cell_type": "code",
   "execution_count": 159,
   "metadata": {},
   "outputs": [
    {
     "data": {
      "text/plain": [
       "Item ID  Item Name         \n",
       "0        Splinter              1.28\n",
       "1        Crucifer              3.26\n",
       "2        Verdict               2.48\n",
       "3        Phantomlight          2.49\n",
       "4        Bloodlord's Fetish    1.70\n",
       "Name: Price, dtype: float64"
      ]
     },
     "execution_count": 159,
     "metadata": {},
     "output_type": "execute_result"
    }
   ],
   "source": [
    "#average price per item\n",
    "purchase_price = popular_item.groupby(['Item ID','Item Name'])['Price'].mean()\n",
    "purchase_price.head()"
   ]
  },
  {
   "cell_type": "code",
   "execution_count": 160,
   "metadata": {},
   "outputs": [
    {
     "data": {
      "text/plain": [
       "Item ID  Item Name         \n",
       "0        Splinter               5.12\n",
       "1        Crucifer               9.78\n",
       "2        Verdict               14.88\n",
       "3        Phantomlight          14.94\n",
       "4        Bloodlord's Fetish     8.50\n",
       "Name: Price, dtype: float64"
      ]
     },
     "execution_count": 160,
     "metadata": {},
     "output_type": "execute_result"
    }
   ],
   "source": [
    "#total purchase value\n",
    "purchase_value = popular_item.groupby(['Item ID','Item Name'])['Price'].sum()\n",
    "purchase_value.head()"
   ]
  },
  {
   "cell_type": "code",
   "execution_count": 161,
   "metadata": {},
   "outputs": [
    {
     "data": {
      "text/html": [
       "<style  type=\"text/css\" >\n",
       "</style>  \n",
       "<table id=\"T_cd75d8e8_c48d_11e8_bed0_acbc32b317cf\" > \n",
       "<thead>    <tr> \n",
       "        <th class=\"blank\" ></th> \n",
       "        <th class=\"blank level0\" ></th> \n",
       "        <th class=\"col_heading level0 col0\" >Purchase Count</th> \n",
       "        <th class=\"col_heading level0 col1\" >Item Price</th> \n",
       "        <th class=\"col_heading level0 col2\" >Total Purchase Value</th> \n",
       "    </tr>    <tr> \n",
       "        <th class=\"index_name level0\" >Item ID</th> \n",
       "        <th class=\"index_name level1\" >Item Name</th> \n",
       "        <th class=\"blank\" ></th> \n",
       "        <th class=\"blank\" ></th> \n",
       "        <th class=\"blank\" ></th> \n",
       "    </tr></thead> \n",
       "<tbody>    <tr> \n",
       "        <th id=\"T_cd75d8e8_c48d_11e8_bed0_acbc32b317cflevel0_row0\" class=\"row_heading level0 row0\" >178</th> \n",
       "        <th id=\"T_cd75d8e8_c48d_11e8_bed0_acbc32b317cflevel1_row0\" class=\"row_heading level1 row0\" >Oathbreaker, Last Hope of the Breaking Storm</th> \n",
       "        <td id=\"T_cd75d8e8_c48d_11e8_bed0_acbc32b317cfrow0_col0\" class=\"data row0 col0\" >12</td> \n",
       "        <td id=\"T_cd75d8e8_c48d_11e8_bed0_acbc32b317cfrow0_col1\" class=\"data row0 col1\" >$4.23</td> \n",
       "        <td id=\"T_cd75d8e8_c48d_11e8_bed0_acbc32b317cfrow0_col2\" class=\"data row0 col2\" >$50.76</td> \n",
       "    </tr>    <tr> \n",
       "        <th id=\"T_cd75d8e8_c48d_11e8_bed0_acbc32b317cflevel0_row1\" class=\"row_heading level0 row1\" >145</th> \n",
       "        <th id=\"T_cd75d8e8_c48d_11e8_bed0_acbc32b317cflevel1_row1\" class=\"row_heading level1 row1\" >Fiery Glass Crusader</th> \n",
       "        <td id=\"T_cd75d8e8_c48d_11e8_bed0_acbc32b317cfrow1_col0\" class=\"data row1 col0\" >9</td> \n",
       "        <td id=\"T_cd75d8e8_c48d_11e8_bed0_acbc32b317cfrow1_col1\" class=\"data row1 col1\" >$4.58</td> \n",
       "        <td id=\"T_cd75d8e8_c48d_11e8_bed0_acbc32b317cfrow1_col2\" class=\"data row1 col2\" >$41.22</td> \n",
       "    </tr>    <tr> \n",
       "        <th id=\"T_cd75d8e8_c48d_11e8_bed0_acbc32b317cflevel0_row2\" class=\"row_heading level0 row2\" >108</th> \n",
       "        <th id=\"T_cd75d8e8_c48d_11e8_bed0_acbc32b317cflevel1_row2\" class=\"row_heading level1 row2\" >Extraction, Quickblade Of Trembling Hands</th> \n",
       "        <td id=\"T_cd75d8e8_c48d_11e8_bed0_acbc32b317cfrow2_col0\" class=\"data row2 col0\" >9</td> \n",
       "        <td id=\"T_cd75d8e8_c48d_11e8_bed0_acbc32b317cfrow2_col1\" class=\"data row2 col1\" >$3.53</td> \n",
       "        <td id=\"T_cd75d8e8_c48d_11e8_bed0_acbc32b317cfrow2_col2\" class=\"data row2 col2\" >$31.77</td> \n",
       "    </tr>    <tr> \n",
       "        <th id=\"T_cd75d8e8_c48d_11e8_bed0_acbc32b317cflevel0_row3\" class=\"row_heading level0 row3\" >82</th> \n",
       "        <th id=\"T_cd75d8e8_c48d_11e8_bed0_acbc32b317cflevel1_row3\" class=\"row_heading level1 row3\" >Nirvana</th> \n",
       "        <td id=\"T_cd75d8e8_c48d_11e8_bed0_acbc32b317cfrow3_col0\" class=\"data row3 col0\" >9</td> \n",
       "        <td id=\"T_cd75d8e8_c48d_11e8_bed0_acbc32b317cfrow3_col1\" class=\"data row3 col1\" >$4.90</td> \n",
       "        <td id=\"T_cd75d8e8_c48d_11e8_bed0_acbc32b317cfrow3_col2\" class=\"data row3 col2\" >$44.10</td> \n",
       "    </tr>    <tr> \n",
       "        <th id=\"T_cd75d8e8_c48d_11e8_bed0_acbc32b317cflevel0_row4\" class=\"row_heading level0 row4\" >19</th> \n",
       "        <th id=\"T_cd75d8e8_c48d_11e8_bed0_acbc32b317cflevel1_row4\" class=\"row_heading level1 row4\" >Pursuit, Cudgel of Necromancy</th> \n",
       "        <td id=\"T_cd75d8e8_c48d_11e8_bed0_acbc32b317cfrow4_col0\" class=\"data row4 col0\" >8</td> \n",
       "        <td id=\"T_cd75d8e8_c48d_11e8_bed0_acbc32b317cfrow4_col1\" class=\"data row4 col1\" >$1.02</td> \n",
       "        <td id=\"T_cd75d8e8_c48d_11e8_bed0_acbc32b317cfrow4_col2\" class=\"data row4 col2\" >$8.16</td> \n",
       "    </tr></tbody> \n",
       "</table> "
      ],
      "text/plain": [
       "<pandas.io.formats.style.Styler at 0x119c9c438>"
      ]
     },
     "execution_count": 161,
     "metadata": {},
     "output_type": "execute_result"
    }
   ],
   "source": [
    "#Put result into one dataframe\n",
    "most_popular_items_df = pd.DataFrame({\n",
    "                                      'Purchase Count': purchase_count,\n",
    "                                      'Item Price': purchase_price,\n",
    "                                      'Total Purchase Value': purchase_value})\n",
    "\n",
    "most_popular_items_df_sorted = most_popular_items_df.sort_values('Purchase Count',ascending=False)\n",
    "most_popular_items_df_sorted.head().style.format({'Item Price': '${:.2f}',\n",
    "                                                  'Total Purchase Value': '${:.2f}'})"
   ]
  },
  {
   "cell_type": "markdown",
   "metadata": {},
   "source": [
    "### Most Profitable Items "
   ]
  },
  {
   "cell_type": "code",
   "execution_count": 162,
   "metadata": {},
   "outputs": [
    {
     "data": {
      "text/html": [
       "<style  type=\"text/css\" >\n",
       "</style>  \n",
       "<table id=\"T_cd7a658c_c48d_11e8_8f6e_acbc32b317cf\" > \n",
       "<thead>    <tr> \n",
       "        <th class=\"blank\" ></th> \n",
       "        <th class=\"blank level0\" ></th> \n",
       "        <th class=\"col_heading level0 col0\" >Purchase Count</th> \n",
       "        <th class=\"col_heading level0 col1\" >Item Price</th> \n",
       "        <th class=\"col_heading level0 col2\" >Total Purchase Value</th> \n",
       "    </tr>    <tr> \n",
       "        <th class=\"index_name level0\" >Item ID</th> \n",
       "        <th class=\"index_name level1\" >Item Name</th> \n",
       "        <th class=\"blank\" ></th> \n",
       "        <th class=\"blank\" ></th> \n",
       "        <th class=\"blank\" ></th> \n",
       "    </tr></thead> \n",
       "<tbody>    <tr> \n",
       "        <th id=\"T_cd7a658c_c48d_11e8_8f6e_acbc32b317cflevel0_row0\" class=\"row_heading level0 row0\" >178</th> \n",
       "        <th id=\"T_cd7a658c_c48d_11e8_8f6e_acbc32b317cflevel1_row0\" class=\"row_heading level1 row0\" >Oathbreaker, Last Hope of the Breaking Storm</th> \n",
       "        <td id=\"T_cd7a658c_c48d_11e8_8f6e_acbc32b317cfrow0_col0\" class=\"data row0 col0\" >12</td> \n",
       "        <td id=\"T_cd7a658c_c48d_11e8_8f6e_acbc32b317cfrow0_col1\" class=\"data row0 col1\" >$4.23</td> \n",
       "        <td id=\"T_cd7a658c_c48d_11e8_8f6e_acbc32b317cfrow0_col2\" class=\"data row0 col2\" >$50.76</td> \n",
       "    </tr>    <tr> \n",
       "        <th id=\"T_cd7a658c_c48d_11e8_8f6e_acbc32b317cflevel0_row1\" class=\"row_heading level0 row1\" >82</th> \n",
       "        <th id=\"T_cd7a658c_c48d_11e8_8f6e_acbc32b317cflevel1_row1\" class=\"row_heading level1 row1\" >Nirvana</th> \n",
       "        <td id=\"T_cd7a658c_c48d_11e8_8f6e_acbc32b317cfrow1_col0\" class=\"data row1 col0\" >9</td> \n",
       "        <td id=\"T_cd7a658c_c48d_11e8_8f6e_acbc32b317cfrow1_col1\" class=\"data row1 col1\" >$4.90</td> \n",
       "        <td id=\"T_cd7a658c_c48d_11e8_8f6e_acbc32b317cfrow1_col2\" class=\"data row1 col2\" >$44.10</td> \n",
       "    </tr>    <tr> \n",
       "        <th id=\"T_cd7a658c_c48d_11e8_8f6e_acbc32b317cflevel0_row2\" class=\"row_heading level0 row2\" >145</th> \n",
       "        <th id=\"T_cd7a658c_c48d_11e8_8f6e_acbc32b317cflevel1_row2\" class=\"row_heading level1 row2\" >Fiery Glass Crusader</th> \n",
       "        <td id=\"T_cd7a658c_c48d_11e8_8f6e_acbc32b317cfrow2_col0\" class=\"data row2 col0\" >9</td> \n",
       "        <td id=\"T_cd7a658c_c48d_11e8_8f6e_acbc32b317cfrow2_col1\" class=\"data row2 col1\" >$4.58</td> \n",
       "        <td id=\"T_cd7a658c_c48d_11e8_8f6e_acbc32b317cfrow2_col2\" class=\"data row2 col2\" >$41.22</td> \n",
       "    </tr>    <tr> \n",
       "        <th id=\"T_cd7a658c_c48d_11e8_8f6e_acbc32b317cflevel0_row3\" class=\"row_heading level0 row3\" >92</th> \n",
       "        <th id=\"T_cd7a658c_c48d_11e8_8f6e_acbc32b317cflevel1_row3\" class=\"row_heading level1 row3\" >Final Critic</th> \n",
       "        <td id=\"T_cd7a658c_c48d_11e8_8f6e_acbc32b317cfrow3_col0\" class=\"data row3 col0\" >8</td> \n",
       "        <td id=\"T_cd7a658c_c48d_11e8_8f6e_acbc32b317cfrow3_col1\" class=\"data row3 col1\" >$4.88</td> \n",
       "        <td id=\"T_cd7a658c_c48d_11e8_8f6e_acbc32b317cfrow3_col2\" class=\"data row3 col2\" >$39.04</td> \n",
       "    </tr>    <tr> \n",
       "        <th id=\"T_cd7a658c_c48d_11e8_8f6e_acbc32b317cflevel0_row4\" class=\"row_heading level0 row4\" >103</th> \n",
       "        <th id=\"T_cd7a658c_c48d_11e8_8f6e_acbc32b317cflevel1_row4\" class=\"row_heading level1 row4\" >Singed Scalpel</th> \n",
       "        <td id=\"T_cd7a658c_c48d_11e8_8f6e_acbc32b317cfrow4_col0\" class=\"data row4 col0\" >8</td> \n",
       "        <td id=\"T_cd7a658c_c48d_11e8_8f6e_acbc32b317cfrow4_col1\" class=\"data row4 col1\" >$4.35</td> \n",
       "        <td id=\"T_cd7a658c_c48d_11e8_8f6e_acbc32b317cfrow4_col2\" class=\"data row4 col2\" >$34.80</td> \n",
       "    </tr></tbody> \n",
       "</table> "
      ],
      "text/plain": [
       "<pandas.io.formats.style.Styler at 0x119c9c4a8>"
      ]
     },
     "execution_count": 162,
     "metadata": {},
     "output_type": "execute_result"
    }
   ],
   "source": [
    "#Resort the previous table to get the most profitable item\n",
    "most_popular_items_df_sorted = most_popular_items_df.sort_values('Total Purchase Value',ascending=False)\n",
    "most_popular_items_df_sorted.head().style.format({'Item Price': '${:.2f}',\n",
    "                                                  'Total Purchase Value': '${:.2f}'})"
   ]
  },
  {
   "cell_type": "code",
   "execution_count": null,
   "metadata": {},
   "outputs": [],
   "source": []
  }
 ],
 "metadata": {
  "kernelspec": {
   "display_name": "Python 3",
   "language": "python",
   "name": "python3"
  },
  "language_info": {
   "codemirror_mode": {
    "name": "ipython",
    "version": 3
   },
   "file_extension": ".py",
   "mimetype": "text/x-python",
   "name": "python",
   "nbconvert_exporter": "python",
   "pygments_lexer": "ipython3",
   "version": "3.6.5"
  }
 },
 "nbformat": 4,
 "nbformat_minor": 2
}
