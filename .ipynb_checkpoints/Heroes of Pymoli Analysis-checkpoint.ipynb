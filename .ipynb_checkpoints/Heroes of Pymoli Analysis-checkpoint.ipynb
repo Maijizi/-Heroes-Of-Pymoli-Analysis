{
 "cells": [
  {
   "cell_type": "markdown",
   "metadata": {},
   "source": [
    "# Heroes Of Pymoli Data Analysis"
   ]
  },
  {
   "cell_type": "markdown",
   "metadata": {},
   "source": [
    "## Takeaways on observable trends on the data "
   ]
  },
  {
   "cell_type": "markdown",
   "metadata": {},
   "source": [
    "- There are 780 purchases in the dataset from 576 players. Among the players, 84% were men whereas only 14% were women. Purchases were also mainly made by male players, that 652 purchases were made by male. However, female players tended to spend more. Female players spent \\$4.47 per person on average, exceeding male players by \\$0.4.<br><br>\n",
    "- The majority of the players were composed of 20-24 years olds (44.79%). However, 35-39 years olds tended to spend more on average that they spent \\$4.76 per person. People less then 10 years old spent \n",
    "\\$4.54 per person, ranked second. 20-24 years olds spent \\$4.32, ranked third.<br><br>\n",
    "\n",
    "-  Most popular item in the dataset was Oathbreaker, Last Hope of the Breaking Storm, which was purchased 12 times. It was also the most profitable itme. "
   ]
  },
  {
   "cell_type": "markdown",
   "metadata": {},
   "source": [
    "## Analysis"
   ]
  },
  {
   "cell_type": "code",
   "execution_count": null,
   "metadata": {
    "scrolled": true
   },
   "outputs": [],
   "source": [
    "# Dependencies and Setup\n",
    "import pandas as pd"
   ]
  },
  {
   "cell_type": "code",
   "execution_count": null,
   "metadata": {},
   "outputs": [],
   "source": [
    "#Load the data. Data stored in the same directory as the notebook\n",
    "file = pd.read_csv('04-Pandas_homework_HeroesOfPymoli_Resources_purchase_data.csv')\n",
    "\n",
    "#Make dataframe\n",
    "df = pd.DataFrame(file)\n",
    "\n",
    "#Display first 5 rows of the data\n",
    "df.head(5)"
   ]
  },
  {
   "cell_type": "markdown",
   "metadata": {},
   "source": [
    "### Data cleaning and descriptives"
   ]
  },
  {
   "cell_type": "code",
   "execution_count": null,
   "metadata": {},
   "outputs": [],
   "source": [
    "#Check if any value is missing\n",
    "df.isnull().values.any()"
   ]
  },
  {
   "cell_type": "code",
   "execution_count": null,
   "metadata": {},
   "outputs": [],
   "source": [
    "#Descriptives\n",
    "df.describe()"
   ]
  },
  {
   "cell_type": "markdown",
   "metadata": {},
   "source": [
    "### Player Count"
   ]
  },
  {
   "cell_type": "code",
   "execution_count": null,
   "metadata": {},
   "outputs": [],
   "source": [
    "#Count the number of unique players\n",
    "count_player = df['SN'].nunique()\n",
    "player_count_df = pd.DataFrame({'Total Players': [count_player]})\n",
    "player_count_df"
   ]
  },
  {
   "cell_type": "markdown",
   "metadata": {},
   "source": [
    "### Purchasing Analysis (Total)"
   ]
  },
  {
   "cell_type": "code",
   "execution_count": null,
   "metadata": {},
   "outputs": [],
   "source": [
    "#Count number of unique items\n",
    "count_items = df['Item ID'].nunique()\n",
    "count_items"
   ]
  },
  {
   "cell_type": "code",
   "execution_count": null,
   "metadata": {},
   "outputs": [],
   "source": [
    "#Average Purchase Price\n",
    "average_price = df['Price'].mean()\n",
    "average_price"
   ]
  },
  {
   "cell_type": "code",
   "execution_count": null,
   "metadata": {},
   "outputs": [],
   "source": [
    "#Total number of purchases\n",
    "count_purchase = df['Purchase ID'].count()\n",
    "count_purchase"
   ]
  },
  {
   "cell_type": "code",
   "execution_count": null,
   "metadata": {},
   "outputs": [],
   "source": [
    "#Total revenue\n",
    "revenue_sum = df['Price'].sum()\n",
    "revenue_sum"
   ]
  },
  {
   "cell_type": "code",
   "execution_count": null,
   "metadata": {},
   "outputs": [],
   "source": [
    "#display result in a dataframe\n",
    "purchasing_analysis_df = pd.DataFrame({'Number of Unique Items':[count_items],\n",
    "                                       'Average Price':[average_price],\n",
    "                                       'Number of Purchases':[count_purchase],\n",
    "                                       'Total Revenue':[revenue_sum]})\n",
    "\n",
    "purchasing_analysis_df.style.format({'Average Price': '${:.2f}',\n",
    "                                    'Total Revenue': '${:.2f}'})"
   ]
  },
  {
   "cell_type": "markdown",
   "metadata": {},
   "source": [
    "### Gender Demographics"
   ]
  },
  {
   "cell_type": "code",
   "execution_count": null,
   "metadata": {},
   "outputs": [],
   "source": [
    "#filter duplicated players\n",
    "dedupe_players_df = df.drop_duplicates('SN')\n",
    "#Check if all the duplicated players have been successfully deduped in \n",
    "#the dedupe dataframe \n",
    "dedupe_players_df.count()"
   ]
  },
  {
   "cell_type": "code",
   "execution_count": null,
   "metadata": {},
   "outputs": [],
   "source": [
    "#Gender distribution in players (count)\n",
    "demographics_count = dedupe_players_df.groupby(['Gender'])['Gender'].count()\n",
    "demographics_count"
   ]
  },
  {
   "cell_type": "code",
   "execution_count": null,
   "metadata": {},
   "outputs": [],
   "source": [
    "#Gender distribution in players (%)\n",
    "demographics_percents = demographics_count/dedupe_players_df['Gender'].count()\n",
    "demographics_percents"
   ]
  },
  {
   "cell_type": "code",
   "execution_count": null,
   "metadata": {},
   "outputs": [],
   "source": [
    "#Dislay result in a dataframe, sorted high to low by Total Count\n",
    "demo_df=pd.DataFrame({'Total Count':demographics_count, \n",
    "                      'Percents':demographics_percents})\n",
    "demo_df_sorted=demo_df.sort_values(['Total Count'],ascending = False)\n",
    "demo_df_sorted.style.format({'Percents': '{:.2%}'})"
   ]
  },
  {
   "cell_type": "markdown",
   "metadata": {},
   "source": [
    "### Purchasing Analysis"
   ]
  },
  {
   "cell_type": "code",
   "execution_count": null,
   "metadata": {},
   "outputs": [],
   "source": [
    "#purchase count by gender\n",
    "purchase_count_gender = df.groupby(['Gender'])['Purchase ID'].count()\n",
    "purchase_count_gender"
   ]
  },
  {
   "cell_type": "code",
   "execution_count": null,
   "metadata": {},
   "outputs": [],
   "source": [
    "#average purchase price by gender\n",
    "purchase_avg_price_gender = df.groupby(['Gender'])['Price'].mean()\n",
    "purchase_avg_price_gender"
   ]
  },
  {
   "cell_type": "code",
   "execution_count": null,
   "metadata": {},
   "outputs": [],
   "source": [
    "#total purchase value by gender\n",
    "total_purchase_value_gender = df.groupby(['Gender'])['Price'].sum()\n",
    "total_purchase_value_gender"
   ]
  },
  {
   "cell_type": "code",
   "execution_count": null,
   "metadata": {},
   "outputs": [],
   "source": [
    "#Avg total purchase per person by gender\n",
    "avg_total_purchase_gender = total_purchase_value_gender / demographics_count\n",
    "avg_total_purchase_gender"
   ]
  },
  {
   "cell_type": "code",
   "execution_count": null,
   "metadata": {},
   "outputs": [],
   "source": [
    "#display all the data in one dataframe\n",
    "purchasing_analysis = pd.DataFrame({'Purchase Count':purchase_count_gender,\n",
    "                                    'Average Purchase Price':purchase_avg_price_gender,\n",
    "                                    'Total Purchase Value':total_purchase_value_gender,\n",
    "                                    'Avg Total Purchase per Person':avg_total_purchase_gender})\n",
    "\n",
    "purchasing_analysis_sorted = purchasing_analysis.sort_values('Purchase Count',ascending=False)\n",
    "purchasing_analysis_sorted.style.format({'Average Purchase Price':'${:.2f}',\n",
    "                                    'Total Purchase Value':'${:.2f}',\n",
    "                                    'Avg Total Purchase per Person':'${:.2f}'})"
   ]
  },
  {
   "cell_type": "markdown",
   "metadata": {},
   "source": [
    "### Age Demogrpahics"
   ]
  },
  {
   "cell_type": "code",
   "execution_count": null,
   "metadata": {},
   "outputs": [],
   "source": [
    "#Craete bins\n",
    "age_bins = [0,9,14,19,24,29,34,39,100]\n",
    "\n",
    "#Create labels for bins\n",
    "age_name = ['<10','10~14','15~19','20~24','25~29','30~34','35~39','>40']  \n",
    "\n",
    "#implement the age brack back to dataset\n",
    "df['Age Bracket']=pd.cut(df['Age'],age_bins,labels=age_name)\n",
    "\n",
    "#drop duplicated players\n",
    "dedupe_players_df = df.drop_duplicates('SN')\n",
    "\n",
    "#display the dataframe\n",
    "dedupe_players_df.head()"
   ]
  },
  {
   "cell_type": "code",
   "execution_count": null,
   "metadata": {},
   "outputs": [],
   "source": [
    "#Calculate purchase count by age\n",
    "purchase_count_by_age_demo = dedupe_players_df.groupby(['Age Bracket'])['Purchase ID'].count()\n",
    "purchase_count_by_age_demo"
   ]
  },
  {
   "cell_type": "code",
   "execution_count": null,
   "metadata": {},
   "outputs": [],
   "source": [
    "#calculate the percentage of players by age\n",
    "purchase_percents_by_age_demo = purchase_count_by_age_demo / dedupe_players_df['Age'].count()\n",
    "purchase_percents_by_age_demo"
   ]
  },
  {
   "cell_type": "code",
   "execution_count": null,
   "metadata": {},
   "outputs": [],
   "source": [
    "#display the final result in  a single dataframe\n",
    "age_demographics_df = pd.DataFrame({'Total Count': purchase_count_by_age, \n",
    "                                   'Percentage of Players': purchase_percents_by_age})\n",
    "age_demographics_df.head().style.format({'Percentage of Players':'{:.2%}'})"
   ]
  },
  {
   "cell_type": "markdown",
   "metadata": {},
   "source": [
    "### Purchaing Analysis (Age)"
   ]
  },
  {
   "cell_type": "code",
   "execution_count": null,
   "metadata": {},
   "outputs": [],
   "source": [
    "#Purchasing count by age (using undeduped player data)\n",
    "purchase_count_by_age = df.groupby(['Age Bracket'])['Purchase ID'].count()\n",
    "purchase_count_by_age"
   ]
  },
  {
   "cell_type": "code",
   "execution_count": null,
   "metadata": {},
   "outputs": [],
   "source": [
    "#Calculate average purchase price by age\n",
    "purchase_price_mean_by_age=df.groupby(['Age Bracket'])['Price'].mean()\n",
    "purchase_price_mean_by_age"
   ]
  },
  {
   "cell_type": "code",
   "execution_count": null,
   "metadata": {},
   "outputs": [],
   "source": [
    "#Calculate total purcahse value\n",
    "purchase_value_by_age = df.groupby(['Age Bracket'])['Price'].sum()\n",
    "purchase_value_by_age"
   ]
  },
  {
   "cell_type": "code",
   "execution_count": null,
   "metadata": {},
   "outputs": [],
   "source": [
    "#Average total purchase per person\n",
    "purchase_per_person_by_age = purchase_value_by_age/purchase_count_by_age_demo\n",
    "purchase_per_person_by_age"
   ]
  },
  {
   "cell_type": "code",
   "execution_count": null,
   "metadata": {},
   "outputs": [],
   "source": [
    "#Put result into a single dataframe\n",
    "age_purchase_df = pd.DataFrame({'Purchase Count': purchase_count_by_age,\n",
    "                                'Average Purchase Price': purchase_price_mean_by_age,\n",
    "                                'Total Purchase Value': purchase_value_by_age,\n",
    "                                'Avg Total Purchase per Person': purchase_per_person_by_age})\n",
    "\n",
    "age_purchase_df.style.format({'Average Purchase Price': '${:.2f}',\n",
    "                              'Total Purchase Value': '${:.2f}',\n",
    "                              'Avg Total Purchase per Person':'${:.2f}'})"
   ]
  },
  {
   "cell_type": "markdown",
   "metadata": {},
   "source": [
    "### Top Spenders"
   ]
  },
  {
   "cell_type": "code",
   "execution_count": null,
   "metadata": {},
   "outputs": [],
   "source": [
    "#Display player name by number of items purchased\n",
    "top_spender_count = df.groupby(['SN'])['Purchase ID'].count()\n",
    "top_spender_count.sort_values(ascending=False).head()"
   ]
  },
  {
   "cell_type": "code",
   "execution_count": null,
   "metadata": {},
   "outputs": [],
   "source": [
    "#Calculate average purchase price per player\n",
    "average_purchase_price_per_player = df.groupby(['SN'])['Price'].mean()\n",
    "average_purchase_price_per_player.head()"
   ]
  },
  {
   "cell_type": "code",
   "execution_count": null,
   "metadata": {},
   "outputs": [],
   "source": [
    "#Total purchase value per player\n",
    "total_purchase_per_player = df.groupby(['SN'])['Price'].sum()\n",
    "total_purchase_per_player.head()"
   ]
  },
  {
   "cell_type": "code",
   "execution_count": null,
   "metadata": {},
   "outputs": [],
   "source": [
    "#display result in one dataframe and sort by total purchase value from high to low\n",
    "top_spenders = pd.DataFrame({'Purchase Count': top_spender_count,\n",
    "                             'Average Purchase Price': average_purchase_price_per_player,\n",
    "                             'Total Purchase Value': total_purchase_per_player})\n",
    "sorted_top_spenders_df = top_spenders.sort_values('Total Purchase Value',ascending = False)\n",
    "sorted_top_spenders_df.head().style.format({'Total Purchase Value':'${:.2f}',\n",
    "                                           'Average Purchase Price';:'${:.2f}'})"
   ]
  },
  {
   "cell_type": "markdown",
   "metadata": {},
   "source": [
    "### Most Popular Items"
   ]
  },
  {
   "cell_type": "code",
   "execution_count": null,
   "metadata": {},
   "outputs": [],
   "source": [
    "#retrieval certain columns for most popular items analysis\n",
    "popular_item = df[['Item ID','Item Name','Price']]\n",
    "popular_item.head()"
   ]
  },
  {
   "cell_type": "code",
   "execution_count": null,
   "metadata": {},
   "outputs": [],
   "source": [
    "#purchase count per item\n",
    "purchase_count = popular_item.groupby(['Item ID','Item Name'])['Item ID'].count()\n",
    "purchase_count.head()"
   ]
  },
  {
   "cell_type": "code",
   "execution_count": null,
   "metadata": {},
   "outputs": [],
   "source": [
    "#average price per item\n",
    "purchase_price = popular_item.groupby(['Item ID','Item Name'])['Price'].mean()\n",
    "purchase_price.head()"
   ]
  },
  {
   "cell_type": "code",
   "execution_count": null,
   "metadata": {},
   "outputs": [],
   "source": [
    "#total purchase value\n",
    "purchase_value = popular_item.groupby(['Item ID','Item Name'])['Price'].sum()\n",
    "purchase_value.head()"
   ]
  },
  {
   "cell_type": "code",
   "execution_count": null,
   "metadata": {},
   "outputs": [],
   "source": [
    "#Put result into one dataframe\n",
    "most_popular_items_df = pd.DataFrame({\n",
    "                                      'Purchase Count': purchase_count,\n",
    "                                      'Item Price': purchase_price,\n",
    "                                      'Total Purchase Value': purchase_value})\n",
    "\n",
    "most_popular_items_df_sorted = most_popular_items_df.sort_values('Purchase Count',ascending=False)\n",
    "most_popular_items_df_sorted.head().style.format({'Item Price': '${:.2f}',\n",
    "                                                  'Total Purchase Value': '${:.2f}'})"
   ]
  },
  {
   "cell_type": "markdown",
   "metadata": {},
   "source": [
    "### Most Profitable Items "
   ]
  },
  {
   "cell_type": "code",
   "execution_count": null,
   "metadata": {},
   "outputs": [],
   "source": [
    "#Resort the previous table to get the most profitable item\n",
    "most_popular_items_df_sorted = most_popular_items_df.sort_values('Total Purchase Value',ascending=False)\n",
    "most_popular_items_df_sorted.head().style.format({'Item Price': '${:.2f}',\n",
    "                                                  'Total Purchase Value': '${:.2f}'})"
   ]
  },
  {
   "cell_type": "code",
   "execution_count": null,
   "metadata": {},
   "outputs": [],
   "source": []
  }
 ],
 "metadata": {
  "kernelspec": {
   "display_name": "Python 3",
   "language": "python",
   "name": "python3"
  },
  "language_info": {
   "codemirror_mode": {
    "name": "ipython",
    "version": 3
   },
   "file_extension": ".py",
   "mimetype": "text/x-python",
   "name": "python",
   "nbconvert_exporter": "python",
   "pygments_lexer": "ipython3",
   "version": "3.6.5"
  }
 },
 "nbformat": 4,
 "nbformat_minor": 2
}
